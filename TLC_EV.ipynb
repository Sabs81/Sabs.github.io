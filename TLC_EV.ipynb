{
 "cells": [
  {
   "cell_type": "code",
   "execution_count": 1,
   "id": "3b64af76",
   "metadata": {},
   "outputs": [],
   "source": [
    "import pandas as pd"
   ]
  },
  {
   "cell_type": "code",
   "execution_count": 2,
   "id": "84c57e40",
   "metadata": {},
   "outputs": [],
   "source": [
    "## This is an active database. It was collected on April 17, 2024\n",
    "df = pd.read_csv(\"For_Hire_Vehicles__FHV__-_Active.csv\")"
   ]
  },
  {
   "cell_type": "code",
   "execution_count": 3,
   "id": "04f76a7d",
   "metadata": {},
   "outputs": [],
   "source": [
    "veh_type_counts = df['VEH'].value_counts()"
   ]
  },
  {
   "cell_type": "code",
   "execution_count": 4,
   "id": "a948a492",
   "metadata": {},
   "outputs": [
    {
     "name": "stdout",
     "output_type": "stream",
     "text": [
      "VEH\n",
      "HYB    14484\n",
      "BEV    10966\n",
      "WAV     7626\n",
      "STR       30\n",
      "DSE        6\n",
      "N          1\n",
      "PEN        1\n",
      "CNG        1\n",
      "Name: count, dtype: int64\n"
     ]
    }
   ],
   "source": [
    "## find out each vehcile type count \n",
    "print(veh_type_counts)"
   ]
  },
  {
   "cell_type": "code",
   "execution_count": 5,
   "id": "aa542b4e",
   "metadata": {},
   "outputs": [
    {
     "data": {
      "text/plain": [
       "109409"
      ]
     },
     "execution_count": 5,
     "metadata": {},
     "output_type": "execute_result"
    }
   ],
   "source": [
    "## find the total count, including EVs (BEV)\n",
    "len(df)"
   ]
  },
  {
   "cell_type": "code",
   "execution_count": null,
   "id": "a5f6eadf",
   "metadata": {},
   "outputs": [],
   "source": []
  }
 ],
 "metadata": {
  "kernelspec": {
   "display_name": "Python 3 (ipykernel)",
   "language": "python",
   "name": "python3"
  },
  "language_info": {
   "codemirror_mode": {
    "name": "ipython",
    "version": 3
   },
   "file_extension": ".py",
   "mimetype": "text/x-python",
   "name": "python",
   "nbconvert_exporter": "python",
   "pygments_lexer": "ipython3",
   "version": "3.11.5"
  }
 },
 "nbformat": 4,
 "nbformat_minor": 5
}
